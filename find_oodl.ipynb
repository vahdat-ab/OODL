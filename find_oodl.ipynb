{
 "cells": [
  {
   "cell_type": "code",
   "execution_count": 1,
   "metadata": {},
   "outputs": [],
   "source": [
    "import numpy as np\n",
    "import os\n",
    "import matplotlib.pyplot as plt\n",
    "from tensorflow.keras.models import Model\n",
    "from utility import calculate_input_gradients, perturb_inputs, preprocess_images, \\\n",
    "                    extract_features, postprocess_features, save_data_hdf5, get_dataset_hdf5, \\\n",
    "                    build_one_class_svm, combine_inliners_outliers, extract_all_features,\\\n",
    "                    extract_layer_features\n",
    "from utility_db_outliers import load_dataset\n",
    "from models_lib import load_custom_model_for_ds\n",
    "import h5py\n",
    "from general_setting import *\n",
    "from metrics import *\n",
    "from matplotlib.ticker import FuncFormatter"
   ]
  },
  {
   "cell_type": "code",
   "execution_count": 2,
   "metadata": {},
   "outputs": [
    {
     "name": "stdout",
     "output_type": "stream",
     "text": [
      "1 Physical GPUs, 1 Logical GPUs\n"
     ]
    }
   ],
   "source": [
    "gpus = tf.config.experimental.list_physical_devices('GPU')\n",
    "if gpus:\n",
    "    try:\n",
    "        # Currently, memory growth needs to be the same across GPUs\n",
    "        for gpu in gpus:\n",
    "            tf.config.experimental.set_memory_growth(gpu, True)\n",
    "        logical_gpus = tf.config.experimental.list_logical_devices('GPU')\n",
    "        print(len(gpus), \"Physical GPUs,\", len(logical_gpus), \"Logical GPUs\")\n",
    "    except RuntimeError as e:\n",
    "        # Memory growth must be set before GPUs have been initialized\n",
    "        print(e)"
   ]
  },
  {
   "cell_type": "code",
   "execution_count": 3,
   "metadata": {},
   "outputs": [
    {
     "name": "stdout",
     "output_type": "stream",
     "text": [
      "MNIST -> CUSTOM-MNIST\n"
     ]
    }
   ],
   "source": [
    "\n",
    "FEA_LOC=\"./features/\"     #The folder in which extracted features are saved.\n",
    "if not os.path.isdir(FEA_LOC): os.makedirs(FEA_LOC)\n",
    "BATCH_SIZE = 1000\n",
    "id_name=ID_DS_LIST[0]     # selects the ID dataset.\n",
    "id_model=ID_MODEL_LIST[0] # select the deep model used for training ID dataset.\n",
    "print(id_name,\"->\", id_model)"
   ]
  },
  {
   "cell_type": "code",
   "execution_count": 4,
   "metadata": {},
   "outputs": [],
   "source": [
    "# We specified the index of layers for several architectures we explored in our experiement.\n",
    "# you can make it to be done automatically or chane the index to suit your architecture.\n",
    "\n",
    "if id_name==\"MNIST\" and id_model==\"CUSTOM-MNIST\":\n",
    "    OOD_DS_LIST       = OOD_DS_LIST_MNIST\n",
    "    slc_layers     = (0,1,2,5)\n",
    "    #**********************************************************\n",
    "elif id_name==\"CIFAR10\":\n",
    "    OOD_DS_LIST       = OOD_DS_LIST_CIFAR10\n",
    "    if id_model==\"VGG16\":\n",
    "        slc_layers = (0,3,5,6,9,11,12,15,18,20,21,24,27,30,33,36,38)\n",
    "    elif id_model==\"ResNet-V1-44\":\n",
    "        slc_layers = (3,6,10,13,17,20,24,27,31,34,38,41,45,48,52,55,60,63,67,70,74,77,81,84,88,91,95,98,102,105,110,113,117,120,124,127,131,134,138,141,145,148,152)        \n",
    "    #**********************************************************\n",
    "elif id_name==\"CIFAR100\":\n",
    "    OOD_DS_LIST      = OOD_DS_LIST_CIFAR100\n",
    "    if  id_model==\"VGG16\":\n",
    "        slc_layers = (0,3,6,9,12,15,18,21,24,27,30,33,36,42)\n",
    "    elif id_model==\"ResNet-V1-44\":\n",
    "        slc_layers = (3,6,10,13,17,20,24,27,31,34,38,41,45,48,52,55,60,63,67,70,74,77,81,84,88,91,95,98,102,105,110,113,117,120,124,127,131,134,138,141,145,148,152)\n"
   ]
  },
  {
   "cell_type": "code",
   "execution_count": 5,
   "metadata": {},
   "outputs": [
    {
     "name": "stdout",
     "output_type": "stream",
     "text": [
      "The weights of CUSTOM-MNIST model was loaded.\n"
     ]
    }
   ],
   "source": [
    "model = load_custom_model_for_ds(id_name, id_model)"
   ]
  },
  {
   "cell_type": "code",
   "execution_count": 6,
   "metadata": {},
   "outputs": [
    {
     "name": "stdout",
     "output_type": "stream",
     "text": [
      "Preprocessing is not needed.\n",
      "Preprocessing is not needed.\n"
     ]
    }
   ],
   "source": [
    "(train_images,_),(test_images, _) = load_dataset(id_name)\n",
    "train_img_processed=preprocess_images(id_name, train_images, id_model, verbose=True)\n",
    "test_img_processed=preprocess_images(id_name, test_images, id_model, verbose=True)"
   ]
  },
  {
   "cell_type": "code",
   "execution_count": 7,
   "metadata": {},
   "outputs": [
    {
     "name": "stdout",
     "output_type": "stream",
     "text": [
      "Extracting features for the training set\n",
      "The featurs of layer 0 was saved. The shape of saved features is (60000, 32)\n",
      "The featurs of layer 1 was saved. The shape of saved features is (60000, 64)\n",
      "The featurs of layer 2 was saved. The shape of saved features is (60000, 64)\n",
      "The featurs of layer 5 was saved. The shape of saved features is (60000, 128)\n",
      "Extracting features for the test set\n",
      "The featurs of layer 0 was saved. The shape of saved features is (10000, 32)\n",
      "The featurs of layer 1 was saved. The shape of saved features is (10000, 64)\n",
      "The featurs of layer 2 was saved. The shape of saved features is (10000, 64)\n",
      "The featurs of layer 5 was saved. The shape of saved features is (10000, 128)\n"
     ]
    }
   ],
   "source": [
    "base_address=FEA_LOC+\"/\"+id_name+\"-\"+id_model+\"/\"\n",
    "if not os.path.isdir(base_address): os.makedirs(base_address)\n",
    "\n",
    "file_address_train =base_address+\"TRAIN\"\n",
    "if not os.path.isfile(file_address_train+\".hdf5\"):\n",
    "    print(\"Extracting features for the training set\")\n",
    "    extract_all_features(model, train_img_processed, slc_layers, BATCH_SIZE, file_address_train)\n",
    "     \n",
    "else:\n",
    "    print(\"The train set features are available.\") \n",
    "    \n",
    "file_address_test =base_address+\"TEST\"\n",
    "if not os.path.isfile(file_address_test+\".hdf5\"):\n",
    "    print(\"Extracting features for the test set\")\n",
    "    extract_all_features(model, test_img_processed, slc_layers, BATCH_SIZE, file_address_test)\n",
    "else:\n",
    "    print(\"The test set features are available.\")"
   ]
  },
  {
   "cell_type": "code",
   "execution_count": 8,
   "metadata": {},
   "outputs": [
    {
     "name": "stdout",
     "output_type": "stream",
     "text": [
      "The name of OOD dataset is FASHION_MNIST\n"
     ]
    }
   ],
   "source": [
    "ood_ds_name = OOD_DS_LIST[0] # selects the OOD dataset used for finding the OODL.\n",
    "print(\"The name of OOD dataset is \"+ ood_ds_name)"
   ]
  },
  {
   "cell_type": "code",
   "execution_count": 9,
   "metadata": {},
   "outputs": [
    {
     "name": "stdout",
     "output_type": "stream",
     "text": [
      "Preprocessing is not needed.\n",
      "Extracting features for the OOD datasets\n",
      "The featurs of layer 0 was saved. The shape of saved features is (10000, 32)\n",
      "The featurs of layer 1 was saved. The shape of saved features is (10000, 64)\n",
      "The featurs of layer 2 was saved. The shape of saved features is (10000, 64)\n",
      "The featurs of layer 5 was saved. The shape of saved features is (10000, 128)\n"
     ]
    }
   ],
   "source": [
    "(_,_),(outlier_data, _) = load_dataset(ood_ds_name)\n",
    "outlier_data_processed = preprocess_images(id_name, outlier_data, id_model, verbose=True)\n",
    "file_address_ood =base_address+ood_ds_name\n",
    "if not os.path.isfile(file_address_ood+\".hdf5\"):\n",
    "    print(\"Extracting features for the OOD datasets\")\n",
    "    extract_all_features(model, outlier_data_processed, slc_layers, BATCH_SIZE, file_address_ood)\n",
    "else:\n",
    "    print(\"The OOD set features are available.\")"
   ]
  },
  {
   "cell_type": "code",
   "execution_count": 10,
   "metadata": {},
   "outputs": [
    {
     "name": "stdout",
     "output_type": "stream",
     "text": [
      "0 / (0, 1, 2, 5)\n",
      "The number of errors for the ID dataset 14\n",
      "The number of errors for the OOD dataset 872\n",
      "1 / (0, 1, 2, 5)\n",
      "The number of errors for the ID dataset 16\n",
      "The number of errors for the OOD dataset 541\n",
      "2 / (0, 1, 2, 5)\n",
      "The number of errors for the ID dataset 12\n",
      "The number of errors for the OOD dataset 657\n",
      "5 / (0, 1, 2, 5)\n",
      "The number of errors for the ID dataset 26\n",
      "The number of errors for the OOD dataset 9992\n"
     ]
    }
   ],
   "source": [
    "aupr_in=[]\n",
    "aupr_out=[]\n",
    "auroc=[]\n",
    "detection_error=[]\n",
    "fpr_at_95_tpr=[]\n",
    "\n",
    "for l in slc_layers:\n",
    "    print(l,\"/\",slc_layers)\n",
    "    training_images = get_dataset_hdf5(\"l_\"+str(l), file_address_train)\n",
    "\n",
    "    test_images     = get_dataset_hdf5(\"l_\"+str(l), file_address_test)\n",
    "    ood_images      = get_dataset_hdf5(\"l_\"+str(l), file_address_ood)\n",
    "    clf_mod, ss_mod = build_one_class_svm(training_images,test_images,ood_images,show_eval=False )\n",
    "    #--------------------------------------------------------------------------------------\n",
    "    test_normalized  = ss_mod.transform(test_images)\n",
    "    pred_test = clf_mod.predict(test_normalized)\n",
    "    base_test_n_errors  = pred_test[pred_test == -1].size\n",
    "    print(\"The number of errors for the ID dataset\", base_test_n_errors)\n",
    "    ood_normalized  = ss_mod.transform(ood_images)\n",
    "    pred_ood = clf_mod.predict(ood_normalized)\n",
    "    base_ood_n_errors  = pred_ood[pred_ood == 1].size\n",
    "    print(\"The number of errors for the OOD dataset\", base_ood_n_errors)\n",
    "    #---------------------------------------------------------------------------------------\n",
    "    mix_data, mix_labels = combine_inliners_outliers(test_normalized,ood_normalized)\n",
    "    scores = - clf_mod.score_samples(mix_data)\n",
    "    results = get_summary_statistics(scores, mix_labels)\n",
    "    aupr_in.append(results[\"aupr_in\"])\n",
    "    aupr_out.append(results[\"aupr_out\"])\n",
    "    auroc.append(results[\"auroc\"])\n",
    "    detection_error.append(results[\"detection_error\"])\n",
    "    fpr_at_95_tpr.append(results[\"fpr_at_95_tpr\"])"
   ]
  },
  {
   "cell_type": "code",
   "execution_count": 11,
   "metadata": {},
   "outputs": [
    {
     "data": {
      "image/png": "[encoded data removed]",
      "text/plain": [
       "<Figure size 288x720 with 5 Axes>"
      ]
     },
     "metadata": {
      "needs_background": "light"
     },
     "output_type": "display_data"
    },
    {
     "name": "stdout",
     "output_type": "stream",
     "text": [
      "The lowest detection error belongs to the layer  1\n"
     ]
    }
   ],
   "source": [
    "x = slc_layers\n",
    "bar_size=0.5\n",
    "row_size = 5\n",
    "figsize=(len(slc_layers),10)\n",
    "fig = plt.figure(1, figsize=figsize)\n",
    "\n",
    "plt.subplot(row_size, 1, 1)\n",
    "plt.bar(x, aupr_in, width=bar_size, color=\"orange\")\n",
    "plt.title(\"Multiple metrics\\n\"+id_name+\" | \"+id_model+\" | \"+ood_ds_name)\n",
    "plt.ylabel('aupr_in (%)')\n",
    "plt.xticks(x)\n",
    "\n",
    "plt.subplot(row_size, 1, 2)\n",
    "plt.bar(x, aupr_out, width=bar_size, color=\"blue\")\n",
    "plt.ylabel('aupr_out (%)')\n",
    "plt.xticks(x)\n",
    "\n",
    "plt.subplot(row_size, 1, 3)\n",
    "plt.bar(x, auroc, width=bar_size, color=\"gray\")\n",
    "plt.ylabel('auroc (%)')\n",
    "plt.xticks(x)\n",
    "\n",
    "plt.subplot(row_size, 1, 4)\n",
    "plt.bar(x, detection_error, width=bar_size, color=\"red\")\n",
    "plt.ylabel('detection_error (%)')\n",
    "plt.xticks(x)\n",
    "\n",
    "plt.subplot(row_size, 1, 5)\n",
    "plt.bar(x, fpr_at_95_tpr, width=bar_size, color=\"green\")\n",
    "plt.ylabel('fpr_at_95_tpr (%)')\n",
    "plt.xticks(x)\n",
    "\n",
    "plt.xlabel('Layers\\n'+\"The lowest detection error belongs to the layer \"+\\\n",
    "                           str(slc_layers[np.argmin(detection_error)]))\n",
    "plt.show()\n",
    "print(\"The lowest detection error belongs to the layer \", str(slc_layers[np.argmin(detection_error)]))\n",
    "fig.savefig(base_address+id_name+\"-\"+id_model+\"-\"+ood_ds_name+\".png\")"
   ]
  },
  {
   "cell_type": "code",
   "execution_count": null,
   "metadata": {},
   "outputs": [],
   "source": []
  }
 ],
 "metadata": {
  "kernelspec": {
   "display_name": "Python 3",
   "language": "python",
   "name": "python3"
  },
  "language_info": {
   "codemirror_mode": {
    "name": "ipython",
    "version": 3
   },
   "file_extension": ".py",
   "mimetype": "text/x-python",
   "name": "python",
   "nbconvert_exporter": "python",
   "pygments_lexer": "ipython3",
   "version": "3.6.9"
  }
 },
 "nbformat": 4,
 "nbformat_minor": 2
}
