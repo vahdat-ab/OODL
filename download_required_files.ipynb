{
 "cells": [
  {
   "cell_type": "code",
   "execution_count": null,
   "metadata": {},
   "outputs": [],
   "source": [
    "!pip install googledrivedownloader\n",
    "!pip install h5py\n",
    "!pip install numpy\n",
    "!pip install matplotlib\n",
    "!pip install sklearn\n",
    "!pip install joblib\n",
    "!pip install requests\n",
    "!pip install tqdm"
   ]
  },
  {
   "cell_type": "code",
   "execution_count": null,
   "metadata": {},
   "outputs": [],
   "source": [
    "from google_drive_downloader import GoogleDriveDownloader as gdd\n",
    "gdd.download_file_from_google_drive(file_id='1YSsgVKA2KuLh8CpGGmtmZihaLHDsS6y9',\n",
    "                                    dest_path='./ood_datasets.zip',\n",
    "                                    unzip=True, showsize=True, overwrite=True)\n",
    "gdd.download_file_from_google_drive(file_id='1C-MSNyaEgwQIeqkHhygoHcTkO4RAA9Wm',\n",
    "                                    dest_path='./saved_models.zip',\n",
    "                                    unzip=True, showsize=True, overwrite=True)"
   ]
  }
 ],
 "metadata": {
  "kernelspec": {
   "display_name": "Python 3",
   "language": "python",
   "name": "python3"
  },
  "language_info": {
   "codemirror_mode": {
    "name": "ipython",
    "version": 3
   },
   "file_extension": ".py",
   "mimetype": "text/x-python",
   "name": "python",
   "nbconvert_exporter": "python",
   "pygments_lexer": "ipython3",
   "version": "3.6.9"
  }
 },
 "nbformat": 4,
 "nbformat_minor": 2
}
