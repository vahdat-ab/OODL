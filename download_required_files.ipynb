{
 "cells": [
  {
   "cell_type": "code",
   "execution_count": null,
   "metadata": {},
   "outputs": [],
   "source": [
    "!pip install h5py\n",
    "!pip install numpy\n",
    "!pip install matplotlib\n",
    "!pip install sklearn\n",
    "!pip install joblib\n",
    "!pip install requests\n",
    "!pip install tqdm\n",
    "!pip install gdown\n",
    "!pip install gdown`"
   ]
  },
  {
   "cell_type": "code",
   "execution_count": null,
   "metadata": {},
   "outputs": [],
   "source": [
    "import gdown\n",
    "import zipfile"
   ]
  },
  {
   "cell_type": "code",
   "execution_count": null,
   "metadata": {},
   "outputs": [],
   "source": [
    "#https://drive.google.com/file/d/1YSsgVKA2KuLh8CpGGmtmZihaLHDsS6y9/view?usp=share_link\n",
    "url = 'https://drive.google.com/uc?id=1YSsgVKA2KuLh8CpGGmtmZihaLHDsS6y9'\n",
    "output = './ood_datasets.zip'\n",
    "gdown.download(url, output, quiet=False)\n",
    "zf = zipfile.ZipFile(output)\n",
    "for file in zf.infolist():\n",
    "    zf.extract(file)"
   ]
  },
  {
   "cell_type": "code",
   "execution_count": null,
   "metadata": {},
   "outputs": [],
   "source": [
    "#https://drive.google.com/file/d/1C-MSNyaEgwQIeqkHhygoHcTkO4RAA9Wm/view?usp=share_link\n",
    "url = 'https://drive.google.com/uc?id=1C-MSNyaEgwQIeqkHhygoHcTkO4RAA9Wm'\n",
    "output = './saved_models.zip'\n",
    "gdown.download(url, output, quiet=False)\n",
    "zf = zipfile.ZipFile(output)\n",
    "for file in zf.infolist():\n",
    "    zf.extract(file)"
   ]
  }
 ],
 "metadata": {
  "kernelspec": {
   "display_name": "Python 3 (ipykernel)",
   "language": "python",
   "name": "python3"
  },
  "language_info": {
   "codemirror_mode": {
    "name": "ipython",
    "version": 3
   },
   "file_extension": ".py",
   "mimetype": "text/x-python",
   "name": "python",
   "nbconvert_exporter": "python",
   "pygments_lexer": "ipython3",
   "version": "3.9.16"
  }
 },
 "nbformat": 4,
 "nbformat_minor": 2
}
